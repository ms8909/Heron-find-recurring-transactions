{
 "cells": [
  {
   "cell_type": "code",
   "source": "# Start writing code here...\n\nimport pandas as pd\n  \n  \ndf = pd.read_json(\"example.json\")\ndf.head()",
   "metadata": {
    "tags": [],
    "cell_id": "5f4fa89b-2852-4013-8698-11f3b7066ab7",
    "owner_user_id": "5dae1a60-96be-43cf-a301-09267f87e7f6",
    "deepnote_to_be_reexecuted": false,
    "source_hash": "55dc9666",
    "execution_start": 1660828001770,
    "execution_millis": 56,
    "deepnote_cell_type": "code",
    "deepnote_cell_height": 497.9375
   },
   "execution_count": 9,
   "outputs": [
    {
     "output_type": "execute_result",
     "execution_count": 9,
     "data": {
      "application/vnd.deepnote.dataframe.v3+json": {
       "column_count": 1,
       "row_count": 5,
       "columns": [
        {
         "name": "transactions",
         "dtype": "object",
         "stats": {
          "unique_count": 5,
          "nan_count": 0,
          "categories": [
           {
            "name": "{'description': 'Spotify', 'amount': -14.99, 'date': '2021-01-29'}",
            "count": 1
           },
           {
            "name": "{'description': 'Spotify', 'amount': -14.99, 'date': '2020-12-29'}",
            "count": 1
           },
           {
            "name": "3 others",
            "count": 3
           }
          ]
         }
        },
        {
         "name": "_deepnote_index_column",
         "dtype": "int64"
        }
       ],
       "rows": [
        {
         "transactions": "{'description': 'Spotify', 'amount': -14.99, 'date': '2021-01-29'}",
         "_deepnote_index_column": 0
        },
        {
         "transactions": "{'description': 'Spotify', 'amount': -14.99, 'date': '2020-12-29'}",
         "_deepnote_index_column": 1
        },
        {
         "transactions": "{'description': 'Spotify', 'amount': -14.99, 'date': '2020-11-29'}",
         "_deepnote_index_column": 2
        },
        {
         "transactions": "{'description': 'Spotify', 'amount': -14.99, 'date': '2020-10-29'}",
         "_deepnote_index_column": 3
        },
        {
         "transactions": "{'description': 'Netflix', 'amount': -20.0, 'date': '2020-02-15'}",
         "_deepnote_index_column": 4
        }
       ]
      },
      "text/plain": "                                        transactions\n0  {'description': 'Spotify', 'amount': -14.99, '...\n1  {'description': 'Spotify', 'amount': -14.99, '...\n2  {'description': 'Spotify', 'amount': -14.99, '...\n3  {'description': 'Spotify', 'amount': -14.99, '...\n4  {'description': 'Netflix', 'amount': -20.0, 'd...",
      "text/html": "<div>\n<style scoped>\n    .dataframe tbody tr th:only-of-type {\n        vertical-align: middle;\n    }\n\n    .dataframe tbody tr th {\n        vertical-align: top;\n    }\n\n    .dataframe thead th {\n        text-align: right;\n    }\n</style>\n<table border=\"1\" class=\"dataframe\">\n  <thead>\n    <tr style=\"text-align: right;\">\n      <th></th>\n      <th>transactions</th>\n    </tr>\n  </thead>\n  <tbody>\n    <tr>\n      <th>0</th>\n      <td>{'description': 'Spotify', 'amount': -14.99, '...</td>\n    </tr>\n    <tr>\n      <th>1</th>\n      <td>{'description': 'Spotify', 'amount': -14.99, '...</td>\n    </tr>\n    <tr>\n      <th>2</th>\n      <td>{'description': 'Spotify', 'amount': -14.99, '...</td>\n    </tr>\n    <tr>\n      <th>3</th>\n      <td>{'description': 'Spotify', 'amount': -14.99, '...</td>\n    </tr>\n    <tr>\n      <th>4</th>\n      <td>{'description': 'Netflix', 'amount': -20.0, 'd...</td>\n    </tr>\n  </tbody>\n</table>\n</div>"
     },
     "metadata": {}
    }
   ]
  },
  {
   "cell_type": "code",
   "source": "import json\n\n \n# Opening JSON file\nwith open('example.json') as json_file:\n    data = json.load(json_file)\n ",
   "metadata": {
    "cell_id": "63eb56cd22ba4a3a9d369727072a0125",
    "tags": [],
    "deepnote_to_be_reexecuted": false,
    "source_hash": "23dda5fc",
    "execution_start": 1660827982484,
    "execution_millis": 11,
    "deepnote_cell_type": "code",
    "deepnote_cell_height": 183.984375
   },
   "outputs": [],
   "execution_count": 7
  },
  {
   "cell_type": "code",
   "source": "# Just converting data in list to make it easy for preprocessing\n\ndef data_to_arrays(data):\n    description= []\n    amount = []\n    date= []\n\n\n    for transaction in data['transactions']:\n        description.append(transaction['description'])\n        amount.append(transaction['amount'])\n        date.append(transaction['date'])\n\n    return description, amount, date\n\ndescription, amount, date= data_to_arrays(data)",
   "metadata": {
    "cell_id": "186b5dbd8bb6400b9e5a683b7e4dc5ce",
    "tags": [],
    "deepnote_to_be_reexecuted": false,
    "source_hash": "63a42227",
    "execution_start": 1660832327833,
    "execution_millis": 1,
    "deepnote_cell_type": "code",
    "deepnote_cell_height": 345.96875,
    "deepnote_output_heights": [
     610
    ]
   },
   "outputs": [],
   "execution_count": 92
  },
  {
   "cell_type": "code",
   "source": "# Let's do basis preprocessing\n# 1. text standardization (capital letters), removing numbers etc \n\nimport re\n\ndef convert_string_to_basic(string_init):\n    # replace special characters with a space \n\n    string_init= str(string_init)\n    my_new_string = re.sub('[^a-zA-Z0-9 \\n\\.]', ' ', string_init)\n\n    # replace numbers with nothing \n\n    my_new_string= re.sub('[0-9]', '', my_new_string)\n\n\n    # Replace multiple while spaces with a single one\n\n    my_new_string= ' '.join(my_new_string.split())\n\n    my_new_string= my_new_string.lower()\n    return my_new_string\n\n\n\nnew_description= []\nfor d in description:\n\n\n    new_d= convert_string_to_basic(d)\n    new_description.append(new_d)\n",
   "metadata": {
    "cell_id": "9f255e5e4f274395a43777d2064392e6",
    "tags": [],
    "deepnote_to_be_reexecuted": false,
    "source_hash": "4d805c2d",
    "execution_start": 1660832443428,
    "execution_millis": 8,
    "deepnote_cell_type": "code",
    "deepnote_cell_height": 633.984375,
    "deepnote_output_heights": [
     20.1875
    ]
   },
   "outputs": [],
   "execution_count": 94
  },
  {
   "cell_type": "code",
   "source": "# find repeat transactions first - just to visualize and see if there are any other case that we might incorporate\n\ndes_key_val= {}\n\nfor d in new_description:\n    if d in des_key_val.keys():\n        des_key_val[d]= des_key_val[d]+ 1\n    else:\n        des_key_val[d]= 1\n\ndes_key_val",
   "metadata": {
    "cell_id": "f26317e4a8c247b78ed7c80db37adc61",
    "tags": [],
    "deepnote_to_be_reexecuted": false,
    "source_hash": "9bc0ce97",
    "execution_start": 1660829086115,
    "execution_millis": 9,
    "deepnote_cell_type": "code",
    "deepnote_cell_height": 681,
    "deepnote_output_heights": [
     404.03125
    ]
   },
   "outputs": [
    {
     "output_type": "execute_result",
     "execution_count": 18,
     "data": {
      "text/plain": "{'spotify': 4,\n 'netflix': 4,\n 'aug acme corp salary': 1,\n 'sep acme corp salary': 1,\n 'oct acme corp salary': 1,\n 'nov acme corp salary': 1,\n 'dec acme corp salary': 1,\n 'jan acme corp salary': 1,\n 'feb acme corp salary': 1,\n 'mar acme corp salary': 1,\n 'apr acme corp salary': 1,\n 'company lunch burritos': 1,\n 'company lunch korean': 1,\n 'company lunch barbeque': 1,\n 'company lunch hot pot': 1,\n 'company lunch fondue': 1,\n 'company lunch burgers': 1,\n 'one off meal': 1,\n 'special meal': 1,\n 'special holiday': 1,\n 'treating myself': 1}"
     },
     "metadata": {}
    }
   ],
   "execution_count": 18
  },
  {
   "cell_type": "code",
   "source": "# NOTE HERE\n\n# Assumption 'aug acme corp salary' and sep acme corp salary' can are recurring \n# We can try fuzzy search to find 1,3 letter difference and then maybe treat enteries with this difference the same. \n\n# When this won't work?\n# For short descriptions\n# Will likely have a lot of false positives.",
   "metadata": {
    "cell_id": "db7d0afb21cf407da4275d0bf26134a3",
    "tags": [],
    "deepnote_cell_type": "code",
    "deepnote_cell_height": 191.96875
   },
   "outputs": [],
   "execution_count": null
  },
  {
   "cell_type": "code",
   "source": "# Let's use regex then to remove dates from descriptions. \n# NOTE: Just the basic case of regex added. This wont work for other dates. NOT ROBUST\n\ndef remove_dates(sentence):\n    sentence = re.sub('(jan|feb|mar|apr|may|jun|jul|aug|sep|oct|nov|dec)', ' ', sentence)\n    return sentence",
   "metadata": {
    "cell_id": "0c6721d3b85e408f9c15a63ddbff6bf6",
    "tags": [],
    "deepnote_to_be_reexecuted": false,
    "source_hash": "1f0efe8a",
    "execution_start": 1660829550561,
    "execution_millis": 1,
    "deepnote_cell_type": "code",
    "deepnote_cell_height": 165.96875
   },
   "outputs": [],
   "execution_count": 30
  },
  {
   "cell_type": "code",
   "source": "new_description_regex= []\nfor d in new_description:\n    new_d= remove_dates(d)\n    new_description_regex.append(new_d)",
   "metadata": {
    "cell_id": "ec25082f894c484083f4ec51cc790efb",
    "tags": [],
    "deepnote_to_be_reexecuted": false,
    "source_hash": "1f597492",
    "execution_start": 1660829651821,
    "execution_millis": 6840,
    "deepnote_cell_type": "code",
    "deepnote_cell_height": 129.96875,
    "deepnote_output_heights": [
     20.1875
    ]
   },
   "outputs": [],
   "execution_count": 35
  },
  {
   "cell_type": "code",
   "source": "# find repeat transactions first\ndes_key_val= {}\n\n# also group all dates together for recurring names \n\nindex= 0\nfor d in new_description_regex:\n    if d in des_key_val.keys():\n        des_key_val[d][0] = des_key_val[d][0]+ 1\n\n        required_date= date[index]\n        des_key_val[d][1].append(required_date)\n    else:\n\n        required_date= date[index]\n        des_key_val[d]= [1,[required_date]]\n\n    index= index+ 1\n\n# sort all the dates \nfor k in des_key_val.keys():\n    des_key_val[k][1].sort()\n\n    \ndes_key_val",
   "metadata": {
    "cell_id": "26510e596fca489c81f1206f6ae65f79",
    "tags": [],
    "deepnote_to_be_reexecuted": false,
    "source_hash": "234f49e2",
    "execution_start": 1660830268530,
    "execution_millis": 6,
    "deepnote_cell_type": "code",
    "deepnote_cell_height": 947.203125,
    "deepnote_output_heights": [
     423.234375,
     423.234375
    ]
   },
   "outputs": [
    {
     "output_type": "execute_result",
     "execution_count": 48,
     "data": {
      "text/plain": "{'spotify': [4, ['2021-01-29', '2020-12-29', '2020-11-29', '2020-10-29']],\n 'netflix': [4, ['2020-02-15', '2020-03-14', '2020-04-16', '2020-05-15']],\n '  acme corp salary': [9,\n  ['2020-08-01',\n   '2020-09-01',\n   '2020-10-01',\n   '2020-11-01',\n   '2020-12-01',\n   '2021-01-01',\n   '2021-02-01',\n   '2021-03-01',\n   '2021-04-01']],\n 'company lunch burritos': [1, ['2021-01-05']],\n 'company lunch korean': [1, ['2021-01-12']],\n 'company lunch barbeque': [1, ['2021-01-19']],\n 'company lunch hot pot': [1, ['2021-01-26']],\n 'company lunch fondue': [1, ['2021-02-02']],\n 'company lunch burgers': [1, ['2021-02-09']],\n 'one off meal': [1, ['2021-02-14']],\n 'special meal': [1, ['2021-01-05']],\n 'special holiday': [1, ['2020-12-10']],\n 'treating myself': [1, ['2020-11-05']]}"
     },
     "metadata": {}
    }
   ],
   "execution_count": 48
  },
  {
   "cell_type": "code",
   "source": "# convert date string to datetime \n\n# arrange dates in assending order\n\n# check if the different between concurrent dates is just 1 month",
   "metadata": {
    "cell_id": "807012a34c2a41bdb56d77186033ac9d",
    "tags": [],
    "deepnote_to_be_reexecuted": false,
    "source_hash": "283158f1",
    "execution_start": 1660830157546,
    "execution_millis": 2,
    "deepnote_cell_type": "code",
    "deepnote_cell_height": 184.15625,
    "deepnote_output_heights": [
     20.1875
    ]
   },
   "outputs": [
    {
     "output_type": "execute_result",
     "execution_count": 40,
     "data": {
      "text/plain": "'2021-01-29'"
     },
     "metadata": {}
    }
   ],
   "execution_count": 40
  },
  {
   "cell_type": "code",
   "source": "from dateutil import relativedelta\nimport datetime\n\n\n# this function can find the difference between two dates \n\ndef differnce_two_dates(d1, d2):\n    date_time_str = d1\n    start_date = datetime.datetime.strptime(date_time_str, '%Y-%m-%d')\n\n    date_time_str = d2\n    end_date = datetime.datetime.strptime(date_time_str, '%Y-%m-%d')\n\n    # Get the relativedelta between two dates\n    delta = relativedelta.relativedelta(end_date, start_date)\n    print(delta.years, 'Years,', delta.months, 'months,', delta.days, 'days')\n\n    if delta.years ==0 and delta.months==0:\n        if delta.days>=28:\n            return True\n        else:\n            return False\n\n    elif delta.years ==0 and delta.months==1:\n        if delta.days<=3:\n            return True\n        else:\n            return False\n",
   "metadata": {
    "cell_id": "122f4734723b4b77a94df67e7c87ff4a",
    "tags": [],
    "deepnote_to_be_reexecuted": false,
    "source_hash": "d56458c0",
    "execution_start": 1660831992643,
    "execution_millis": 4,
    "deepnote_cell_type": "code",
    "deepnote_cell_height": 579.96875,
    "deepnote_output_heights": [
     20.1875
    ]
   },
   "outputs": [],
   "execution_count": 88
  },
  {
   "cell_type": "code",
   "source": "recurring_transactions= []\npotential_recurring = \"\"\n\nfor k in des_key_val.keys():\n    if des_key_val[k][0]>1:\n        potential_recurring=k\n\n        # now check the difference between dates\n\n        dates= des_key_val[k][1]\n\n        for i in range(len(dates)-1):\n            d1= dates[i]\n            d2= dates[i+1]\n            \n            diff= differnce_two_dates(d1, d2)\n            if diff== False:\n                potential_recurring= \"\"\n    if potential_recurring!= \"\":\n        recurring_transactions.append(potential_recurring)\n        potential_recurring = \"\"\n\nrecurring_transactions\n\n\n",
   "metadata": {
    "cell_id": "36fcc47290ee4ce39765a0b432df98e9",
    "tags": [],
    "deepnote_to_be_reexecuted": false,
    "source_hash": "23bd588b",
    "execution_start": 1660832051440,
    "execution_millis": 4,
    "deepnote_cell_type": "code",
    "deepnote_cell_height": 864.625,
    "deepnote_output_heights": [
     231.296875,
     20.1875
    ]
   },
   "outputs": [
    {
     "name": "stdout",
     "text": "0 Years, 1 months, 0 days\n0 Years, 1 months, 0 days\n0 Years, 1 months, 0 days\n0 Years, 0 months, 28 days\n0 Years, 1 months, 2 days\n0 Years, 0 months, 29 days\n0 Years, 1 months, 0 days\n0 Years, 1 months, 0 days\n0 Years, 1 months, 0 days\n0 Years, 1 months, 0 days\n0 Years, 1 months, 0 days\n0 Years, 1 months, 0 days\n0 Years, 1 months, 0 days\n0 Years, 1 months, 0 days\n",
     "output_type": "stream"
    },
    {
     "output_type": "execute_result",
     "execution_count": 91,
     "data": {
      "text/plain": "['spotify', 'netflix', '  acme corp salary']"
     },
     "metadata": {}
    }
   ],
   "execution_count": 91
  },
  {
   "cell_type": "markdown",
   "source": "# Compiled Code",
   "metadata": {
    "is_collapsed": false,
    "cell_id": "c345a0595b7a4e37a283b92d4e6a7c19",
    "tags": [],
    "formattedRanges": [],
    "deepnote_cell_type": "text-cell-h1"
   }
  },
  {
   "cell_type": "code",
   "source": "# Lets compile the code in one place\n\n# all supoorting functions \n\n# Just converting data in list to make it easy for preprocessing\n\ndef data_to_arrays(data):\n    description= []\n    amount = []\n    date= []\n\n\n    for transaction in data['transactions']:\n        description.append(transaction['description'])\n        amount.append(transaction['amount'])\n        date.append(transaction['date'])\n\n    return description, amount, date\n\n\n\ndef convert_string_to_basic(string_init):\n    # replace special characters with a space \n\n    string_init= str(string_init)\n    my_new_string = re.sub('[^a-zA-Z0-9 \\n\\.]', ' ', string_init)\n\n    # replace numbers with nothing \n\n    my_new_string= re.sub('[0-9]', '', my_new_string)\n\n\n    # Replace multiple while spaces with a single one\n\n    my_new_string= ' '.join(my_new_string.split())\n\n    my_new_string= my_new_string.lower()\n    return my_new_string\n\n\n\n# Let's use regex then to remove dates from descriptions. \n# NOTE: Just the basic case of regex added. This wont work for other dates. NOT ROBUST\n\ndef remove_dates(sentence):\n    sentence = re.sub('(jan|feb|mar|apr|may|jun|jul|aug|sep|oct|nov|dec)', ' ', sentence)\n    return sentence\n\n\n# this function can find the difference between two dates \n\ndef differnce_two_dates(d1, d2):\n    date_time_str = d1\n    start_date = datetime.datetime.strptime(date_time_str, '%Y-%m-%d')\n\n    date_time_str = d2\n    end_date = datetime.datetime.strptime(date_time_str, '%Y-%m-%d')\n\n    # Get the relativedelta between two dates\n    delta = relativedelta.relativedelta(end_date, start_date)\n    print(delta.years, 'Years,', delta.months, 'months,', delta.days, 'days')\n\n    if delta.years ==0 and delta.months==0:\n        if delta.days>=28:\n            return True\n        else:\n            return False\n\n    elif delta.years ==0 and delta.months==1:\n        if delta.days<=3:\n            return True\n        else:\n            return False\n            \n",
   "metadata": {
    "cell_id": "d46b546a0c2b446cbbee75c8990bba9c",
    "tags": [],
    "deepnote_to_be_reexecuted": false,
    "source_hash": "baf4c654",
    "execution_start": 1660832869716,
    "execution_millis": 0,
    "deepnote_cell_type": "code",
    "deepnote_cell_height": 1407.984375
   },
   "outputs": [],
   "execution_count": 95
  },
  {
   "cell_type": "code",
   "source": "# Let's compile code in one place\n\n# Start writing code here...\n\nimport pandas as pd\nimport json\nimport re\nfrom dateutil import relativedelta\nimport datetime\n\ndef find_recurring_transactios(file_path):\n\n\n\n    \n    # Opening JSON file\n    with open(file_path) as json_file:\n        data = json.load(json_file)\n    \n\n\n    description, amount, date= data_to_arrays(data)\n\n\n\n    new_description= []\n    for d in description:\n\n        new_d= convert_string_to_basic(d)\n        new_description.append(new_d)\n\n\n\n    new_description_regex= []\n    for d in new_description:\n        new_d= remove_dates(d)\n        new_description_regex.append(new_d)\n\n\n\n\n    # find repeat transactions first\n    des_key_val= {}\n\n    # also group all dates together for recurring names \n\n    index= 0\n    for d in new_description_regex:\n        if d in des_key_val.keys():\n            des_key_val[d][0] = des_key_val[d][0]+ 1\n\n            required_date= date[index]\n            des_key_val[d][1].append(required_date)\n        else:\n\n            required_date= date[index]\n            des_key_val[d]= [1,[required_date]]\n\n        index= index+ 1\n\n    # sort all the dates \n    for k in des_key_val.keys():\n        des_key_val[k][1].sort()\n\n    \n\n\n\n\n    recurring_transactions= []\n    potential_recurring = \"\"\n\n    for k in des_key_val.keys():\n        if des_key_val[k][0]>1:\n            potential_recurring=k\n\n            # now check the difference between dates\n\n            dates= des_key_val[k][1]\n\n            for i in range(len(dates)-1):\n                d1= dates[i]\n                d2= dates[i+1]\n                \n                diff= differnce_two_dates(d1, d2)\n                if diff== False:\n                    potential_recurring= \"\"\n        if potential_recurring!= \"\":\n            recurring_transactions.append(potential_recurring)\n            potential_recurring = \"\"\n            \n\n    return recurring_transactions\n\n",
   "metadata": {
    "cell_id": "353378c1b3154b85bb4407818237738b",
    "tags": [],
    "deepnote_to_be_reexecuted": false,
    "source_hash": "678a5048",
    "execution_start": 1660833002085,
    "execution_millis": 38,
    "deepnote_cell_type": "code",
    "deepnote_cell_height": 1767.984375,
    "deepnote_output_heights": [
     null,
     20.1875
    ]
   },
   "outputs": [],
   "execution_count": 98
  },
  {
   "cell_type": "code",
   "source": "find_recurring_transactios(\"example.json\")",
   "metadata": {
    "cell_id": "368eb33491b24ad89facd3250ee9c95a",
    "tags": [],
    "deepnote_to_be_reexecuted": false,
    "source_hash": "2666404a",
    "execution_start": 1660833005783,
    "execution_millis": 18,
    "deepnote_cell_type": "code",
    "deepnote_cell_height": 414.625,
    "deepnote_output_heights": [
     null,
     20.1875
    ]
   },
   "outputs": [
    {
     "name": "stdout",
     "text": "0 Years, 1 months, 0 days\n0 Years, 1 months, 0 days\n0 Years, 1 months, 0 days\n0 Years, 0 months, 28 days\n0 Years, 1 months, 2 days\n0 Years, 0 months, 29 days\n0 Years, 1 months, 0 days\n0 Years, 1 months, 0 days\n0 Years, 1 months, 0 days\n0 Years, 1 months, 0 days\n0 Years, 1 months, 0 days\n0 Years, 1 months, 0 days\n0 Years, 1 months, 0 days\n0 Years, 1 months, 0 days\n",
     "output_type": "stream"
    },
    {
     "output_type": "execute_result",
     "execution_count": 100,
     "data": {
      "text/plain": "['spotify', 'netflix', '  acme corp salary']"
     },
     "metadata": {}
    }
   ],
   "execution_count": 100
  },
  {
   "cell_type": "code",
   "source": "",
   "metadata": {
    "cell_id": "be834b88d32341dfbfa5f8052725ebdd",
    "tags": [],
    "deepnote_cell_type": "code",
    "deepnote_cell_height": 60.96875
   },
   "outputs": [],
   "execution_count": null
  },
  {
   "cell_type": "markdown",
   "source": "<a style='text-decoration:none;line-height:16px;display:flex;color:#5B5B62;padding:10px;justify-content:end;' href='https://deepnote.com?utm_source=created-in-deepnote-cell&projectId=1d43a8f4-e120-4eb5-9830-0858cdd19102' target=\"_blank\">\n<img alt='Created in deepnote.com' style='display:inline;max-height:16px;margin:0px;margin-right:7.5px;' src='data:image/svg+xml;base64,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' > </img>\nCreated in <span style='font-weight:600;margin-left:4px;'>Deepnote</span></a>",
   "metadata": {
    "tags": [],
    "created_in_deepnote_cell": true,
    "deepnote_cell_type": "markdown"
   }
  }
 ],
 "nbformat": 4,
 "nbformat_minor": 2,
 "metadata": {
  "orig_nbformat": 2,
  "deepnote": {},
  "deepnote_notebook_id": "1cc27c20-019c-4415-a93d-a51a601b0d3a",
  "deepnote_execution_queue": []
 }
}